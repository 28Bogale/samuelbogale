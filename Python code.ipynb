{
 "cells": [
  {
   "cell_type": "markdown",
   "metadata": {
    "collapsed": true
   },
   "source": [
    "# From simple coding  to complex coding"
   ]
  },
  {
   "cell_type": "markdown",
   "metadata": {},
   "source": [
    "##  ML, Data Science and DL"
   ]
  },
  {
   "cell_type": "code",
   "execution_count": 1,
   "metadata": {},
   "outputs": [
    {
     "name": "stdout",
     "output_type": "stream",
     "text": [
      "<class 'str'>\n",
      "<class 'int'>\n",
      "<class 'str'>\n",
      "<class 'float'>\n",
      "<class 'bool'>\n",
      "<class 'list'>\n",
      "<class 'tuple'>\n",
      "<class 'dict'>\n"
     ]
    }
   ],
   "source": [
    "First_name=\"Sammy\"\n",
    "print(type(First_name))\n",
    "age= 26\n",
    "print(type(age))\n",
    "Gender='M'\n",
    "print(type(Gender))\n",
    "Weight= 60.75\n",
    "print(type(Weight))\n",
    "Married =True\n",
    "print(type(Married))\n",
    "Country= [\"Germany\",\"Canada\",\"USA\",\"England\"]\n",
    "print(type(Country))\n",
    "days=(\"Sunday\",\"Monday\",\"Tuseday\",\"Wednesday\",\"Thursday\",\"Friday\",\"Saturday\")\n",
    "print(type(days))\n",
    "days2={1:\"Sunday\",2:\"Monday\",3:\"Tuseday\",4:\"Wednesday\",5:\"Thursday\",6:\"Friday\",7:\"Saturday\"}\n",
    "print(type(days2))"
   ]
  },
  {
   "cell_type": "code",
   "execution_count": 2,
   "metadata": {},
   "outputs": [
    {
     "name": "stdout",
     "output_type": "stream",
     "text": [
      "8\n",
      "2\n",
      "15\n",
      "1.6666666666666667\n",
      "125\n"
     ]
    }
   ],
   "source": [
    "X= 5\n",
    "Y= 3\n",
    "\n",
    "print(X + Y)\n",
    "print(X - Y)\n",
    "print(X * Y)\n",
    "print(X / Y)\n",
    "print(X ** Y)\n"
   ]
  },
  {
   "cell_type": "code",
   "execution_count": 3,
   "metadata": {},
   "outputs": [
    {
     "name": "stdout",
     "output_type": "stream",
     "text": [
      "False\n",
      "True\n",
      "False\n",
      "True\n"
     ]
    }
   ],
   "source": [
    "x= True\n",
    "y= False\n",
    "print (x and y)\n",
    "print (x or  y)\n",
    "print (not(x or y))\n",
    "print (not(x and y))"
   ]
  },
  {
   "cell_type": "code",
   "execution_count": 4,
   "metadata": {},
   "outputs": [
    {
     "name": "stdout",
     "output_type": "stream",
     "text": [
      "False\n",
      "True\n",
      "True\n",
      "True\n"
     ]
    }
   ],
   "source": [
    "X = 24\n",
    "Y = 14\n",
    "\n",
    "print (X==Y)\n",
    "print (X!=Y)\n",
    "print (X > Y + 9 )\n",
    "print (X/2 < Y - 1 )"
   ]
  },
  {
   "cell_type": "code",
   "execution_count": 5,
   "metadata": {},
   "outputs": [
    {
     "name": "stdout",
     "output_type": "stream",
     "text": [
      "28\n",
      "195\n"
     ]
    }
   ],
   "source": [
    "x= 15 ;  y= 13\n",
    "R = x + y\n",
    "print(R)\n",
    "R= x * y\n",
    "print (R)"
   ]
  },
  {
   "cell_type": "code",
   "execution_count": 6,
   "metadata": {},
   "outputs": [
    {
     "name": "stdout",
     "output_type": "stream",
     "text": [
      "30\n",
      "10\n"
     ]
    }
   ],
   "source": [
    "x= 20;\n",
    "y= 10\n",
    "x+= 10\n",
    "print(x)\n",
    "x= 20;\n",
    "y= 10\n",
    "x-= 10\n",
    "print(x)\n"
   ]
  },
  {
   "cell_type": "code",
   "execution_count": 7,
   "metadata": {},
   "outputs": [
    {
     "name": "stdout",
     "output_type": "stream",
     "text": [
      "True\n",
      "True\n"
     ]
    }
   ],
   "source": [
    "days =(\"Monday\", \"Tuseday\", \"Wedensday\", \"Thursday\",\"Friday\")\n",
    "print (\"Sunday\"  not in  days)\n",
    "print  ('Monday' in days)"
   ]
  },
  {
   "cell_type": "code",
   "execution_count": 8,
   "metadata": {},
   "outputs": [
    {
     "name": "stdout",
     "output_type": "stream",
     "text": [
      "15\n"
     ]
    }
   ],
   "source": [
    "x= 15\n",
    "y=  7\n",
    "if x > y:\n",
    "    print(x)    \n",
    "else:\n",
    "    print(y)\n"
   ]
  },
  {
   "cell_type": "code",
   "execution_count": 9,
   "metadata": {},
   "outputs": [
    {
     "name": "stdout",
     "output_type": "stream",
     "text": [
      "5 is not greater than 10 and 8 is not smallert than 4\n"
     ]
    }
   ],
   "source": [
    " if  5 > 10:\n",
    "        print (\"5 is greater than 10\")\n",
    "elif 8 < 4:\n",
    "        print (\"8 is less than 4\")\n",
    "else:\n",
    "       print (\"5 is not greater than 10 and 8 is not smallert than 4\") "
   ]
  },
  {
   "cell_type": "code",
   "execution_count": 10,
   "metadata": {},
   "outputs": [
    {
     "name": "stdout",
     "output_type": "stream",
     "text": [
      "range(0, 10)\n",
      "range(0, 10)\n",
      "range(0, 10)\n",
      "range(0, 10)\n",
      "range(0, 10)\n",
      "range(0, 10)\n",
      "range(0, 10)\n",
      "range(0, 10)\n",
      "range(0, 10)\n",
      "range(0, 10)\n"
     ]
    }
   ],
   "source": [
    "item= range(10)\n",
    "for x in item:\n",
    "    print(item)\n",
    "    \n"
   ]
  },
  {
   "cell_type": "code",
   "execution_count": 11,
   "metadata": {},
   "outputs": [
    {
     "name": "stdout",
     "output_type": "stream",
     "text": [
      "0\n",
      "1\n",
      "2\n",
      "3\n",
      "4\n",
      "5\n",
      "6\n",
      "7\n",
      "8\n",
      "9\n"
     ]
    }
   ],
   "source": [
    "c = 0\n",
    "while c < 10: \n",
    "    print(c)\n",
    "    c = c +1 \n",
    "    "
   ]
  },
  {
   "cell_type": "code",
   "execution_count": 12,
   "metadata": {},
   "outputs": [
    {
     "name": "stdout",
     "output_type": "stream",
     "text": [
      "Fun with param 1\n"
     ]
    }
   ],
   "source": [
    "def myfun(num):\n",
    "    print(\"Fun with param\"+num)\n",
    "myfun(\" 1\")\n",
    "   "
   ]
  },
  {
   "cell_type": "code",
   "execution_count": 13,
   "metadata": {},
   "outputs": [
    {
     "name": "stdout",
     "output_type": "stream",
     "text": [
      " this fun returns value\n"
     ]
    }
   ],
   "source": [
    "def fun():\n",
    "    return \" this fun returns value\"\n",
    "val= fun()\n",
    "print(val)"
   ]
  },
  {
   "cell_type": "code",
   "execution_count": 14,
   "metadata": {},
   "outputs": [
    {
     "name": "stdout",
     "output_type": "stream",
     "text": [
      "Book has been sold\n",
      "Modern Artificial Intelligence\n",
      "500\n"
     ]
    }
   ],
   "source": [
    "class Book:\n",
    "    name= \"Modern Artificial Intelligence\"\n",
    "    price= 500\n",
    "    def buy_book(self):\n",
    "        print(\"Book has been sold\")\n",
    "b = Book () \n",
    "b.buy_book()\n",
    "print(b.name)\n",
    "print (b.price)\n",
    "            \n",
    "        \n",
    "    "
   ]
  },
  {
   "cell_type": "code",
   "execution_count": 17,
   "metadata": {},
   "outputs": [
    {
     "name": "stdout",
     "output_type": "stream",
     "text": [
      "Book has been sold\n",
      "Machine Learning\n",
      "800\n"
     ]
    }
   ],
   "source": [
    "class Book:\n",
    "    name = \"Modern Artificial Intelligence\"\n",
    "    price = 1000 \n",
    "    def __init__(self, book_name, book_price):\n",
    "        Book.name = book_name\n",
    "        Book.price = book_price  \n",
    "    def buy_book(self): \n",
    "        print(\"Book has been sold\")  \n",
    "b = Book(\"Machine Learning\", 800)  \n",
    "b.buy_book()  \n",
    "print(b.name)  \n",
    "print(b.price)  "
   ]
  },
  {
   "cell_type": "code",
   "execution_count": 18,
   "metadata": {},
   "outputs": [
    {
     "data": {
      "text/plain": [
       "numpy.ndarray"
      ]
     },
     "execution_count": 18,
     "metadata": {},
     "output_type": "execute_result"
    }
   ],
   "source": [
    "import numpy as np\n",
    "num_list=[10,12,14,16,18,20]\n",
    "num_array=np.array(num_list)\n",
    "type(num_array)"
   ]
  },
  {
   "cell_type": "code",
   "execution_count": 22,
   "metadata": {},
   "outputs": [
    {
     "data": {
      "text/plain": [
       "(3, 4)"
      ]
     },
     "execution_count": 22,
     "metadata": {},
     "output_type": "execute_result"
    }
   ],
   "source": [
    "row1= [1,2,3,4]\n",
    "row2= [5,6,7,8]\n",
    "row3= [9,10,11,12]\n",
    "num_2d = np.array([row1, row2, row3])\n",
    "num_2d.shape"
   ]
  },
  {
   "cell_type": "code",
   "execution_count": 23,
   "metadata": {},
   "outputs": [
    {
     "name": "stdout",
     "output_type": "stream",
     "text": [
      "[5, 1, 4, 3]\n"
     ]
    }
   ],
   "source": [
    "a = [5, 1, 4, 3]\n",
    "print(a)"
   ]
  },
  {
   "cell_type": "code",
   "execution_count": 27,
   "metadata": {},
   "outputs": [
    {
     "name": "stdout",
     "output_type": "stream",
     "text": [
      "[1, 3, 4, 5]\n"
     ]
    }
   ],
   "source": [
    "print (sorted (a))\n",
    "\n"
   ]
  },
  {
   "cell_type": "code",
   "execution_count": 29,
   "metadata": {},
   "outputs": [
    {
     "name": "stdout",
     "output_type": "stream",
     "text": [
      "['BB', 'CC', 'aa', 'zz']\n"
     ]
    }
   ],
   "source": [
    "strs = ['aa', 'BB', 'zz', 'CC']\n",
    "print (sorted(strs))"
   ]
  },
  {
   "cell_type": "code",
   "execution_count": 31,
   "metadata": {},
   "outputs": [
    {
     "name": "stdout",
     "output_type": "stream",
     "text": [
      "['zz', 'aa', 'CC', 'BB']\n"
     ]
    }
   ],
   "source": [
    "print (sorted (strs, reverse=True))"
   ]
  },
  {
   "cell_type": "code",
   "execution_count": null,
   "metadata": {
    "collapsed": true
   },
   "outputs": [],
   "source": [
    "\n"
   ]
  },
  {
   "cell_type": "code",
   "execution_count": null,
   "metadata": {
    "collapsed": true
   },
   "outputs": [],
   "source": []
  }
 ],
 "metadata": {
  "kernelspec": {
   "display_name": "Python 3",
   "language": "python",
   "name": "python3"
  },
  "language_info": {
   "codemirror_mode": {
    "name": "ipython",
    "version": 3
   },
   "file_extension": ".py",
   "mimetype": "text/x-python",
   "name": "python",
   "nbconvert_exporter": "python",
   "pygments_lexer": "ipython3",
   "version": "3.6.7"
  }
 },
 "nbformat": 4,
 "nbformat_minor": 2
}
